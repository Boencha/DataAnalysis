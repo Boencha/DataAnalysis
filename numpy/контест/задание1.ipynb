{
 "cells": [
  {
   "cell_type": "code",
   "execution_count": null,
   "metadata": {},
   "outputs": [],
   "source": [
    "# Задача 1. Умножение матриц\n",
    "\n",
    "import numpy as np\n",
    "import typing as tp\n",
    "\n",
    "def matrix_multiplication(A: np.ndarray, B: np.ndarray) -> np.ndarray:\n",
    "    shapes = [A.shape[0], A.shape[1], B.shape[0], B.shape[1]]\n",
    "    A1 = A.reshape(shapes[0], shapes[1], 1)\n",
    "    B1 = B.reshape(1, shapes[2], shapes[3])\n",
    "    prod = A1 * B1\n",
    "    return prod.sum(axis=1)\n",
    "\n"
   ]
  },
  {
   "cell_type": "code",
   "execution_count": null,
   "metadata": {},
   "outputs": [],
   "source": [
    "# Задача 2. Ближайшие соседи\n",
    "\n",
    "import numpy as np\n",
    "import typing as tp\n",
    "def find_nearest_points(A: np.ndarray, B: np.ndarray, k: int) -> np.ndarray:\n",
    "    A1 = A.reshape(1, A.shape[0], A.shape[1])\n",
    "    B1 = B.reshape(B.shape[0], 1, B.shape[1])\n",
    "    return np.argsort(np.sum((A1-B1)**2, axis=2))[:, 0:k] + np.ones((B.shape[0], k))"
   ]
  },
  {
   "cell_type": "code",
   "execution_count": null,
   "metadata": {},
   "outputs": [],
   "source": [
    "# Задача 3. Подотрезок с максимальной суммой\n",
    "\n",
    "import numpy as np\n",
    "import typing as tp\n",
    "def find_max_sum_segment(array: tp.List[int], k: int) -> int:\n",
    "    array1 = np.triu(np.zeros((len(array), len(array))) + np.array(array)) - np.triu(np.zeros((len(array), len(array))) + np.array(array), k)\n",
    "    return max(array1.sum(axis=1)[:len(array) - k + 1])"
   ]
  }
 ],
 "metadata": {
  "language_info": {
   "name": "python"
  }
 },
 "nbformat": 4,
 "nbformat_minor": 2
}
